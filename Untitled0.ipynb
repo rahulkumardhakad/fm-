{
  "nbformat": 4,
  "nbformat_minor": 0,
  "metadata": {
    "colab": {
      "provenance": [],
      "authorship_tag": "ABX9TyOTCOG6gMVf7HKOFW2Gjw5U",
      "include_colab_link": true
    },
    "kernelspec": {
      "name": "python3",
      "display_name": "Python 3"
    },
    "language_info": {
      "name": "python"
    }
  },
  "cells": [
    {
      "cell_type": "markdown",
      "metadata": {
        "id": "view-in-github",
        "colab_type": "text"
      },
      "source": [
        "<a href=\"https://colab.research.google.com/github/rahulkumardhakad/fm-/blob/main/Untitled0.ipynb\" target=\"_parent\"><img src=\"https://colab.research.google.com/assets/colab-badge.svg\" alt=\"Open In Colab\"/></a>"
      ]
    },
    {
      "cell_type": "code",
      "execution_count": 3,
      "metadata": {
        "colab": {
          "base_uri": "https://localhost:8080/"
        },
        "id": "XB7W1Iwnlw_L",
        "outputId": "79eca35a-ae05-4878-bb03-5d1fc143565d"
      },
      "outputs": [
        {
          "output_type": "stream",
          "name": "stdout",
          "text": [
            "tensor([[0.1739, 0.4425],\n",
            "        [0.8842, 0.5939]])\n",
            "tensor([[0.2666, 0.2553],\n",
            "        [0.7016, 0.3001]])\n",
            "tensor([[0.4405, 0.6978],\n",
            "        [1.5859, 0.8940]])\n"
          ]
        }
      ],
      "source": [
        "import torch\n",
        "\n",
        "x=torch.rand(2,2)\n",
        "y=torch.rand(2,2)\n",
        "print(x)\n",
        "print(y)\n",
        "z=x+y\n",
        "print(z)"
      ]
    }
  ]
}